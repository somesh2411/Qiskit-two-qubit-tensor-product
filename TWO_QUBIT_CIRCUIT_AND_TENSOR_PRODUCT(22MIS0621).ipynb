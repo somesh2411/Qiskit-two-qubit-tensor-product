{
  "nbformat": 4,
  "nbformat_minor": 0,
  "metadata": {
    "colab": {
      "provenance": []
    },
    "kernelspec": {
      "name": "python3",
      "display_name": "Python 3"
    },
    "language_info": {
      "name": "python"
    }
  },
  "cells": [
    {
      "cell_type": "code",
      "execution_count": 1,
      "metadata": {
        "colab": {
          "base_uri": "https://localhost:8080/"
        },
        "id": "qbmkn_YeBWe8",
        "outputId": "7318b3c7-b8df-48ca-b7ef-31347c4c07f1"
      },
      "outputs": [
        {
          "output_type": "stream",
          "name": "stdout",
          "text": [
            "\u001b[?25l     \u001b[90m━━━━━━━━━━━━━━━━━━━━━━━━━━━━━━━━━━━━━━━━\u001b[0m \u001b[32m0.0/162.6 kB\u001b[0m \u001b[31m?\u001b[0m eta \u001b[36m-:--:--\u001b[0m\r\u001b[2K     \u001b[90m━━━━━━━━━━━━━━━━━━━━━━━━━━━━━━━━━━━━━━━\u001b[0m \u001b[32m162.6/162.6 kB\u001b[0m \u001b[31m6.8 MB/s\u001b[0m eta \u001b[36m0:00:00\u001b[0m\n",
            "\u001b[?25h  Preparing metadata (setup.py) ... \u001b[?25l\u001b[?25hdone\n",
            "\u001b[2K   \u001b[90m━━━━━━━━━━━━━━━━━━━━━━━━━━━━━━━━━━━━━━━━\u001b[0m \u001b[32m8.0/8.0 MB\u001b[0m \u001b[31m104.6 MB/s\u001b[0m eta \u001b[36m0:00:00\u001b[0m\n",
            "\u001b[2K   \u001b[90m━━━━━━━━━━━━━━━━━━━━━━━━━━━━━━━━━━━━━━━━\u001b[0m \u001b[32m12.4/12.4 MB\u001b[0m \u001b[31m116.8 MB/s\u001b[0m eta \u001b[36m0:00:00\u001b[0m\n",
            "\u001b[2K   \u001b[90m━━━━━━━━━━━━━━━━━━━━━━━━━━━━━━━━━━━━━━━━\u001b[0m \u001b[32m2.2/2.2 MB\u001b[0m \u001b[31m97.7 MB/s\u001b[0m eta \u001b[36m0:00:00\u001b[0m\n",
            "\u001b[2K   \u001b[90m━━━━━━━━━━━━━━━━━━━━━━━━━━━━━━━━━━━━━━━━\u001b[0m \u001b[32m49.5/49.5 kB\u001b[0m \u001b[31m4.2 MB/s\u001b[0m eta \u001b[36m0:00:00\u001b[0m\n",
            "\u001b[?25h  Building wheel for pylatexenc (setup.py) ... \u001b[?25l\u001b[?25hdone\n"
          ]
        }
      ],
      "source": [
        "\n",
        "!pip install qiskit qiskit-aer pylatexenc --quiet\n",
        "\n",
        "from qiskit import QuantumCircuit, transpile\n",
        "from qiskit_aer import AerSimulator\n",
        "from qiskit.visualization import plot_histogram, plot_bloch_multivector\n",
        "from qiskit.quantum_info import Statevector\n",
        "import matplotlib.pyplot as plt\n",
        "\n"
      ]
    },
    {
      "cell_type": "code",
      "source": [
        "simulator = AerSimulator()\n",
        "\n",
        "qc1 = QuantumCircuit(2, 2)\n",
        "qc1.h(0)\n",
        "qc1.h(1)\n",
        "qc1.measure([0, 1], [0, 1])\n",
        "\n",
        "compiled1 = transpile(qc1, simulator)\n",
        "result1 = simulator.run(compiled1, shots=1024).result()\n",
        "counts1 = result1.get_counts()\n",
        "print(\"1️⃣ Hadamard on both qubits → Measurement Results:\", counts1)\n",
        "qc1.draw('text')\n",
        "plot_histogram(counts1)\n",
        "plt.show()\n"
      ],
      "metadata": {
        "colab": {
          "base_uri": "https://localhost:8080/"
        },
        "id": "z1pk2mckBtLI",
        "outputId": "211063ee-866b-44eb-fa1a-0288a597c261"
      },
      "execution_count": 2,
      "outputs": [
        {
          "output_type": "stream",
          "name": "stdout",
          "text": [
            "1️⃣ Hadamard on both qubits → Measurement Results: {'01': 260, '11': 274, '10': 237, '00': 253}\n"
          ]
        }
      ]
    },
    {
      "cell_type": "code",
      "source": [
        "qc2 = QuantumCircuit(2, 2)\n",
        "qc2.x(1)\n",
        "qc2.measure([0, 1], [0, 1])\n",
        "\n",
        "compiled2 = transpile(qc2, simulator)\n",
        "result2 = simulator.run(compiled2, shots=1024).result()\n",
        "counts2 = result2.get_counts()\n",
        "print(\"2️⃣ X gate on second qubit → Measurement Results:\", counts2)\n",
        "qc2.draw('text')\n",
        "plot_histogram(counts2)\n",
        "plt.show()\n"
      ],
      "metadata": {
        "colab": {
          "base_uri": "https://localhost:8080/"
        },
        "id": "ZJPtrIi8B0li",
        "outputId": "417dab65-0d9b-48aa-a023-b151cc579b09"
      },
      "execution_count": 3,
      "outputs": [
        {
          "output_type": "stream",
          "name": "stdout",
          "text": [
            "2️⃣ X gate on second qubit → Measurement Results: {'10': 1024}\n"
          ]
        }
      ]
    },
    {
      "cell_type": "code",
      "source": [
        "qc3 = QuantumCircuit(2, 2)\n",
        "qc3.h(0)\n",
        "qc3.cx(0, 1)\n",
        "qc3.measure([0, 1], [0, 1])\n",
        "\n",
        "compiled3 = transpile(qc3, simulator)\n",
        "result3 = simulator.run(compiled3, shots=1024).result()\n",
        "counts3 = result3.get_counts()\n",
        "print(\"3️⃣ Hadamard + CNOT → Entangled Bell State Measurement Results:\", counts3)\n",
        "qc3.draw('text')\n",
        "plot_histogram(counts3)\n",
        "plt.show()\n",
        "state3 = Statevector.from_instruction(qc3.remove_final_measurements(inplace=False))\n",
        "print(\"Entangled Statevector:\", state3)\n",
        "plot_bloch_multivector(state3)\n",
        "plt.show()\n"
      ],
      "metadata": {
        "colab": {
          "base_uri": "https://localhost:8080/"
        },
        "id": "Br0ggTM_B5VH",
        "outputId": "bb7901bd-764d-453d-bead-21bc9b162e59"
      },
      "execution_count": 4,
      "outputs": [
        {
          "output_type": "stream",
          "name": "stdout",
          "text": [
            "3️⃣ Hadamard + CNOT → Entangled Bell State Measurement Results: {'00': 508, '11': 516}\n",
            "Entangled Statevector: Statevector([0.70710678+0.j, 0.        +0.j, 0.        +0.j,\n",
            "             0.70710678+0.j],\n",
            "            dims=(2, 2))\n"
          ]
        }
      ]
    },
    {
      "cell_type": "code",
      "source": [
        "compiled4 = transpile(qc3, simulator)\n",
        "result4 = simulator.run(compiled4, shots=4096).result()\n",
        "counts4 = result4.get_counts()\n",
        "print(\"4️⃣ Entangled Circuit (4096 shots) → More Stable Distribution:\", counts4)\n",
        "plot_histogram(counts4)\n",
        "plt.show()\n"
      ],
      "metadata": {
        "colab": {
          "base_uri": "https://localhost:8080/"
        },
        "id": "2aQM1nNCCBDX",
        "outputId": "ddb26877-fa75-48b1-a420-749108c9639b"
      },
      "execution_count": 5,
      "outputs": [
        {
          "output_type": "stream",
          "name": "stdout",
          "text": [
            "4️⃣ Entangled Circuit (4096 shots) → More Stable Distribution: {'11': 2034, '00': 2062}\n"
          ]
        }
      ]
    },
    {
      "cell_type": "code",
      "source": [
        "# Before measurement\n",
        "qc_bloch = QuantumCircuit(2)\n",
        "qc_bloch.h(0)\n",
        "qc_bloch.cx(0, 1)\n",
        "state_before = Statevector.from_instruction(qc_bloch)\n",
        "print(\"5️⃣ Bloch Visualization (Before Measurement):\")\n",
        "plot_bloch_multivector(state_before)\n",
        "plt.show()\n",
        "\n",
        "# After measurement\n",
        "qc_bloch.measure_all()\n",
        "compiled_bloch = transpile(qc_bloch, simulator)\n",
        "result_bloch = simulator.run(compiled_bloch, shots=1024).result()\n",
        "counts_bloch = result_bloch.get_counts()\n",
        "print(\"Measurement Results (After Measurement):\", counts_bloch)\n",
        "plot_histogram(counts_bloch)\n",
        "plt.show()"
      ],
      "metadata": {
        "colab": {
          "base_uri": "https://localhost:8080/"
        },
        "id": "_sRdjtL7CErE",
        "outputId": "2c7e71ec-50fc-40f3-c71f-b11e0a45d6db"
      },
      "execution_count": 6,
      "outputs": [
        {
          "output_type": "stream",
          "name": "stdout",
          "text": [
            "5️⃣ Bloch Visualization (Before Measurement):\n",
            "Measurement Results (After Measurement): {'00': 527, '11': 497}\n"
          ]
        }
      ]
    }
  ]
}